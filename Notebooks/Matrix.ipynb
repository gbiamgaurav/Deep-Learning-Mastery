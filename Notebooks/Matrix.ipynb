{
 "cells": [
  {
   "cell_type": "code",
   "execution_count": 1,
   "id": "3fbaac02",
   "metadata": {},
   "outputs": [],
   "source": [
    "import numpy as np"
   ]
  },
  {
   "cell_type": "code",
   "execution_count": 2,
   "id": "21c247a0",
   "metadata": {},
   "outputs": [],
   "source": [
    "revenue = np.array([[180,200,220], [24,36,40],[12,18,20]])\n",
    "expenses = np.array([[80,90,100],[10,16,20],[8,10,10]])"
   ]
  },
  {
   "cell_type": "code",
   "execution_count": 3,
   "id": "09daa6c0",
   "metadata": {},
   "outputs": [
    {
     "data": {
      "text/plain": [
       "array([[180, 200, 220],\n",
       "       [ 24,  36,  40],\n",
       "       [ 12,  18,  20]])"
      ]
     },
     "execution_count": 3,
     "metadata": {},
     "output_type": "execute_result"
    }
   ],
   "source": [
    "revenue"
   ]
  },
  {
   "cell_type": "code",
   "execution_count": 4,
   "id": "cc50867a",
   "metadata": {},
   "outputs": [
    {
     "data": {
      "text/plain": [
       "array([[ 80,  90, 100],\n",
       "       [ 10,  16,  20],\n",
       "       [  8,  10,  10]])"
      ]
     },
     "execution_count": 4,
     "metadata": {},
     "output_type": "execute_result"
    }
   ],
   "source": [
    "expenses"
   ]
  },
  {
   "cell_type": "code",
   "execution_count": 5,
   "id": "6c075c30",
   "metadata": {},
   "outputs": [],
   "source": [
    "profit = revenue - expenses"
   ]
  },
  {
   "cell_type": "code",
   "execution_count": 6,
   "id": "2115b240",
   "metadata": {},
   "outputs": [
    {
     "name": "stdout",
     "output_type": "stream",
     "text": [
      "[[100 110 120]\n",
      " [ 14  20  20]\n",
      " [  4   8  10]]\n"
     ]
    }
   ],
   "source": [
    "print(profit)"
   ]
  },
  {
   "cell_type": "code",
   "execution_count": 7,
   "id": "121738db",
   "metadata": {},
   "outputs": [],
   "source": [
    "units = np.array([[30,40,50], [5,10,15], [2,5,7]])\n",
    "price = np.array([1000,400,1200])"
   ]
  },
  {
   "cell_type": "code",
   "execution_count": 8,
   "id": "51a5920a",
   "metadata": {},
   "outputs": [
    {
     "data": {
      "text/plain": [
       "array([[30, 40, 50],\n",
       "       [ 5, 10, 15],\n",
       "       [ 2,  5,  7]])"
      ]
     },
     "execution_count": 8,
     "metadata": {},
     "output_type": "execute_result"
    }
   ],
   "source": [
    "units"
   ]
  },
  {
   "cell_type": "code",
   "execution_count": 9,
   "id": "089e8079",
   "metadata": {},
   "outputs": [
    {
     "data": {
      "text/plain": [
       "array([1000,  400, 1200])"
      ]
     },
     "execution_count": 9,
     "metadata": {},
     "output_type": "execute_result"
    }
   ],
   "source": [
    "price"
   ]
  },
  {
   "cell_type": "code",
   "execution_count": 10,
   "id": "3ea4d640",
   "metadata": {},
   "outputs": [],
   "source": [
    "price_per_unit = units*price"
   ]
  },
  {
   "cell_type": "code",
   "execution_count": 12,
   "id": "06e06455",
   "metadata": {},
   "outputs": [],
   "source": [
    "#price_per_unit"
   ]
  },
  {
   "cell_type": "code",
   "execution_count": 13,
   "id": "5577e676",
   "metadata": {},
   "outputs": [
    {
     "data": {
      "text/plain": [
       "array([34400, 50000, 64400])"
      ]
     },
     "execution_count": 13,
     "metadata": {},
     "output_type": "execute_result"
    }
   ],
   "source": [
    "np.dot(price, units)"
   ]
  },
  {
   "cell_type": "markdown",
   "id": "894d079f",
   "metadata": {},
   "source": [
    "### Exercises"
   ]
  },
  {
   "cell_type": "code",
   "execution_count": 14,
   "id": "e20da9c7",
   "metadata": {},
   "outputs": [
    {
     "data": {
      "text/plain": [
       "array([[200, 220, 250],\n",
       "       [ 68,  79, 105],\n",
       "       [110, 140, 180],\n",
       "       [ 80,  85,  90]])"
      ]
     },
     "execution_count": 14,
     "metadata": {},
     "output_type": "execute_result"
    }
   ],
   "source": [
    "revenue_in_dollars = np.array([[200,220,250], [68,79,105], [110,140,180], [80,85,90]])\n",
    "revenue_in_dollars"
   ]
  },
  {
   "cell_type": "code",
   "execution_count": 17,
   "id": "22b0545b",
   "metadata": {},
   "outputs": [],
   "source": [
    "revenue_in_rupees = revenue_in_dollars*75"
   ]
  },
  {
   "cell_type": "code",
   "execution_count": 18,
   "id": "7dc98909",
   "metadata": {},
   "outputs": [
    {
     "name": "stdout",
     "output_type": "stream",
     "text": [
      "[[15000 16500 18750]\n",
      " [ 5100  5925  7875]\n",
      " [ 8250 10500 13500]\n",
      " [ 6000  6375  6750]]\n"
     ]
    }
   ],
   "source": [
    "print(revenue_in_rupees)"
   ]
  },
  {
   "cell_type": "code",
   "execution_count": 19,
   "id": "e66af0c7",
   "metadata": {},
   "outputs": [
    {
     "data": {
      "text/plain": [
       "numpy.ndarray"
      ]
     },
     "execution_count": 19,
     "metadata": {},
     "output_type": "execute_result"
    }
   ],
   "source": [
    "type(revenue_in_rupees)"
   ]
  },
  {
   "cell_type": "code",
   "execution_count": 20,
   "id": "e177ae2c",
   "metadata": {},
   "outputs": [
    {
     "name": "stdout",
     "output_type": "stream",
     "text": [
      "[[15000 16500 18750]\n",
      " [ 5100  5925  7875]\n",
      " [ 8250 10500 13500]\n",
      " [ 6000  6375  6750]]\n"
     ]
    }
   ],
   "source": [
    "print(revenue_in_rupees)"
   ]
  },
  {
   "cell_type": "code",
   "execution_count": 21,
   "id": "57055489",
   "metadata": {},
   "outputs": [
    {
     "data": {
      "text/plain": [
       "array([[50, 60, 25],\n",
       "       [10, 13,  5],\n",
       "       [40, 70, 52]])"
      ]
     },
     "execution_count": 21,
     "metadata": {},
     "output_type": "execute_result"
    }
   ],
   "source": [
    "units_sold = np.array([[50,60,25], [10,13,5], [40,70,52]])\n",
    "units_sold"
   ]
  },
  {
   "cell_type": "code",
   "execution_count": 22,
   "id": "80d7f9f9",
   "metadata": {},
   "outputs": [
    {
     "data": {
      "text/plain": [
       "array([20, 30, 15])"
      ]
     },
     "execution_count": 22,
     "metadata": {},
     "output_type": "execute_result"
    }
   ],
   "source": [
    "price_per_unit = np.array([20,30,15])\n",
    "price_per_unit"
   ]
  },
  {
   "cell_type": "code",
   "execution_count": 26,
   "id": "e322f76a",
   "metadata": {},
   "outputs": [],
   "source": [
    "total_sales = np.dot(price_per_unit, units_sold)"
   ]
  },
  {
   "cell_type": "code",
   "execution_count": 27,
   "id": "6c4e9b90",
   "metadata": {},
   "outputs": [
    {
     "name": "stdout",
     "output_type": "stream",
     "text": [
      "[1900 2640 1430]\n"
     ]
    }
   ],
   "source": [
    "print(total_sales)"
   ]
  },
  {
   "cell_type": "code",
   "execution_count": null,
   "id": "11f31370",
   "metadata": {},
   "outputs": [],
   "source": []
  }
 ],
 "metadata": {
  "kernelspec": {
   "display_name": "Python 3 (ipykernel)",
   "language": "python",
   "name": "python3"
  },
  "language_info": {
   "codemirror_mode": {
    "name": "ipython",
    "version": 3
   },
   "file_extension": ".py",
   "mimetype": "text/x-python",
   "name": "python",
   "nbconvert_exporter": "python",
   "pygments_lexer": "ipython3",
   "version": "3.9.0"
  }
 },
 "nbformat": 4,
 "nbformat_minor": 5
}
